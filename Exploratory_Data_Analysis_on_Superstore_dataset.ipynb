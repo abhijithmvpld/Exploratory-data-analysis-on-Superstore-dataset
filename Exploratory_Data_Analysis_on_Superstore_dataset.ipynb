{
  "nbformat": 4,
  "nbformat_minor": 0,
  "metadata": {
    "colab": {
      "name": "Exploratory Data Analysis on Superstore dataset.ipynb",
      "provenance": [],
      "collapsed_sections": []
    },
    "kernelspec": {
      "name": "python3",
      "display_name": "Python 3"
    },
    "language_info": {
      "name": "python"
    }
  },
  "cells": [
    {
      "cell_type": "markdown",
      "metadata": {
        "id": "d8BThuN3i9so"
      },
      "source": [
        "# **The Spark Foundation Internship Program**"
      ]
    },
    {
      "cell_type": "markdown",
      "metadata": {
        "id": "Fm2XOrh4jG3Z"
      },
      "source": [
        "## Data Science and Business analytics Task 3"
      ]
    },
    {
      "cell_type": "markdown",
      "metadata": {
        "id": "VMBPWnINjHBP"
      },
      "source": [
        "\n",
        "Exploratory Data Analysis’ on dataset  SampleSuperstore"
      ]
    },
    {
      "cell_type": "markdown",
      "metadata": {
        "id": "uYnURS0yjkua"
      },
      "source": [
        "Import the libraries"
      ]
    },
    {
      "cell_type": "code",
      "metadata": {
        "id": "U93boFY8joXS"
      },
      "source": [
        "import numpy as np\n",
        "import pandas as pd\n",
        "import matplotlib.pyplot as plt\n",
        "import seaborn as sns\n",
        "from sklearn.preprocessing import LabelEncoder"
      ],
      "execution_count": 9,
      "outputs": []
    },
    {
      "cell_type": "markdown",
      "metadata": {
        "id": "mNl4wvpgjkxw"
      },
      "source": [
        "Reading the data"
      ]
    },
    {
      "cell_type": "code",
      "metadata": {
        "id": "zs8CpVs-jwA7"
      },
      "source": [
        "data=pd.read_csv(\"/content/SampleSuperstore.csv\")\n",
        "data.head(10)\n"
      ],
      "execution_count": null,
      "outputs": []
    },
    {
      "cell_type": "markdown",
      "metadata": {
        "id": "2c-IjN2Kjk08"
      },
      "source": [
        "Exploratory Data Analysis"
      ]
    },
    {
      "cell_type": "markdown",
      "metadata": {
        "id": "STM3S4VekvPf"
      },
      "source": [
        "Row,column count"
      ]
    },
    {
      "cell_type": "code",
      "metadata": {
        "id": "5O8CHbAgjwD6"
      },
      "source": [
        "data.shape"
      ],
      "execution_count": null,
      "outputs": []
    },
    {
      "cell_type": "markdown",
      "metadata": {
        "id": "-QTZ2TRCk02X"
      },
      "source": [
        "Column names"
      ]
    },
    {
      "cell_type": "code",
      "metadata": {
        "id": "fpjPVjbkjwIh"
      },
      "source": [
        "data.columns\n"
      ],
      "execution_count": null,
      "outputs": []
    },
    {
      "cell_type": "markdown",
      "metadata": {
        "id": "T3f2qo7ok-_k"
      },
      "source": [
        "Checking data types of columns"
      ]
    },
    {
      "cell_type": "code",
      "metadata": {
        "id": "cPjzAyJ0jwMU"
      },
      "source": [
        "data.dtypes\n"
      ],
      "execution_count": null,
      "outputs": []
    },
    {
      "cell_type": "markdown",
      "metadata": {
        "id": "W-w3bMbelGBI"
      },
      "source": [
        "Checking for null values"
      ]
    },
    {
      "cell_type": "code",
      "metadata": {
        "id": "3Ec3bfrOlGM6"
      },
      "source": [
        "data.isnull().sum()"
      ],
      "execution_count": null,
      "outputs": []
    },
    {
      "cell_type": "markdown",
      "metadata": {
        "id": "4YAt3sT2lGbp"
      },
      "source": [
        "There is no missing values in the dataset."
      ]
    },
    {
      "cell_type": "code",
      "metadata": {
        "id": "Fz9OwEiAlGkP"
      },
      "source": [
        "data['Country'].value_counts()"
      ],
      "execution_count": null,
      "outputs": []
    },
    {
      "cell_type": "markdown",
      "metadata": {
        "id": "NGKtCZWClGsN"
      },
      "source": [
        "The data is for US only.So country column is not needed."
      ]
    },
    {
      "cell_type": "markdown",
      "metadata": {
        "id": "fmIMnBAVl3y-"
      },
      "source": [
        "Dropping the country column"
      ]
    },
    {
      "cell_type": "code",
      "metadata": {
        "id": "VJqqsq6vlGyR"
      },
      "source": [
        "data=data.drop('Country',axis=1)\n",
        "data"
      ],
      "execution_count": null,
      "outputs": []
    },
    {
      "cell_type": "markdown",
      "metadata": {
        "id": "7Q7uJtEfmDiH"
      },
      "source": [
        "Looking for available products"
      ]
    },
    {
      "cell_type": "code",
      "metadata": {
        "id": "3gUOSExTmC7F"
      },
      "source": [
        "data['Category'].unique()"
      ],
      "execution_count": null,
      "outputs": []
    },
    {
      "cell_type": "markdown",
      "metadata": {
        "id": "aGcv5dGimC0J"
      },
      "source": [
        "Number of products in each category"
      ]
    },
    {
      "cell_type": "code",
      "metadata": {
        "id": "zlRS6MZ0mCrd"
      },
      "source": [
        "data['Category'].value_counts()"
      ],
      "execution_count": null,
      "outputs": []
    },
    {
      "cell_type": "markdown",
      "metadata": {
        "id": "StVWFFvzmCh1"
      },
      "source": [
        "Number of sub-categories"
      ]
    },
    {
      "cell_type": "code",
      "metadata": {
        "id": "TPRYgskvmCZL"
      },
      "source": [
        "data['Sub-Category'].nunique()"
      ],
      "execution_count": null,
      "outputs": []
    },
    {
      "cell_type": "markdown",
      "metadata": {
        "id": "AEh-JcQBmCM3"
      },
      "source": [
        "\n",
        "Number of each product in sub-category"
      ]
    },
    {
      "cell_type": "code",
      "metadata": {
        "id": "fKd6YArmks1p"
      },
      "source": [
        "data['Sub-Category'].value_counts()"
      ],
      "execution_count": null,
      "outputs": []
    },
    {
      "cell_type": "markdown",
      "metadata": {
        "id": "VKfg7prXoH2N"
      },
      "source": [
        "From the above table we can learn that the store sells more stationary goods"
      ]
    },
    {
      "cell_type": "markdown",
      "metadata": {
        "id": "d7sQxezimioL"
      },
      "source": [
        "Plotting the relation between category and sub-category"
      ]
    },
    {
      "cell_type": "code",
      "metadata": {
        "id": "wH1Lpygumi9r"
      },
      "source": [
        "plt.figure(figsize=(16,8))\n",
        "plt.bar('Sub-Category','Category',data=data,color='y')\n",
        "plt.show()"
      ],
      "execution_count": null,
      "outputs": []
    },
    {
      "cell_type": "markdown",
      "metadata": {
        "id": "ooHV-NgUolEB"
      },
      "source": [
        "From the above bar-graph we can see that the office more stationary goods can furniture or technology"
      ]
    },
    {
      "cell_type": "markdown",
      "metadata": {
        "id": "uBb9jDEAmjH4"
      },
      "source": [
        "Plotting pie chart to study sub-category in detail"
      ]
    },
    {
      "cell_type": "code",
      "metadata": {
        "id": "C_hOw1VkmjNb"
      },
      "source": [
        "plt.figure(figsize=(12,10))\n",
        "data['Sub-Category'].value_counts().plot.pie(autopct=\"%1.1f%%\")\n",
        "plt.show()"
      ],
      "execution_count": null,
      "outputs": []
    },
    {
      "cell_type": "markdown",
      "metadata": {
        "id": "bilwLXInpF72"
      },
      "source": [
        "The pie chart shows binders and papers are the top selling goods\n",
        "phones are the top selling technology goods"
      ]
    },
    {
      "cell_type": "markdown",
      "metadata": {
        "id": "2Jqx-LX3mjTY"
      },
      "source": [
        "Plottingbar graph to find the profit and sales"
      ]
    },
    {
      "cell_type": "code",
      "metadata": {
        "id": "wUbHb_h6mjXz"
      },
      "source": [
        "data.groupby('Sub-Category')['Profit','Sales'].agg(['sum']).plot.bar()\n",
        "plt.title('Total Profit and Sales per Sub-Category')\n",
        "# plt.legend('Profit')\n",
        "# plt.legend('Sales')\n",
        "plt.show()"
      ],
      "execution_count": null,
      "outputs": []
    },
    {
      "cell_type": "markdown",
      "metadata": {
        "id": "oRRhd-Vtpcgk"
      },
      "source": [
        "More profit acquired from copiers, accessories and phones"
      ]
    },
    {
      "cell_type": "markdown",
      "metadata": {
        "id": "o1OfCMD2mjb_"
      },
      "source": [
        "Count sub-category region-wise"
      ]
    },
    {
      "cell_type": "code",
      "metadata": {
        "id": "gBDh_Cnrmjg_"
      },
      "source": [
        "plt.figure(figsize=(15,8))\n",
        "sns.countplot(x=\"Sub-Category\", hue=\"Region\", data=data)\n",
        "plt.show()"
      ],
      "execution_count": null,
      "outputs": []
    },
    {
      "cell_type": "markdown",
      "metadata": {
        "id": "Wkji3NrtpuZ5"
      },
      "source": [
        "From the above graph we can see that West region has most sales and the south region has least sales."
      ]
    },
    {
      "cell_type": "markdown",
      "metadata": {
        "id": "cGGbDEqGm-fR"
      },
      "source": [
        "\n",
        "Creating new column named cost"
      ]
    },
    {
      "cell_type": "code",
      "metadata": {
        "id": "bvUmd30Lm-sG"
      },
      "source": [
        "\n",
        "data['Cost']=data['Sales']-data['Profit']\n",
        "data['Cost'].head()"
      ],
      "execution_count": null,
      "outputs": []
    },
    {
      "cell_type": "code",
      "metadata": {
        "id": "l0y8dI6WqHZr"
      },
      "source": [
        "data"
      ],
      "execution_count": null,
      "outputs": []
    },
    {
      "cell_type": "markdown",
      "metadata": {
        "id": "zTZjEjVqnGTl"
      },
      "source": [
        "Creating new column named profit%"
      ]
    },
    {
      "cell_type": "code",
      "metadata": {
        "id": "ZAovucBVmh3c"
      },
      "source": [
        "data['Profit %']=(data['Profit']/data['Cost'])*100"
      ],
      "execution_count": 29,
      "outputs": []
    },
    {
      "cell_type": "code",
      "metadata": {
        "id": "UI9__UUNqLRm"
      },
      "source": [
        "data"
      ],
      "execution_count": null,
      "outputs": []
    }
  ]
}